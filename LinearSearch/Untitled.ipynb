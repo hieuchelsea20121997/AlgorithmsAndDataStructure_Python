{
 "cells": [
  {
   "cell_type": "code",
   "execution_count": 1,
   "id": "70978048-1b10-42c6-9952-4a49f152f517",
   "metadata": {},
   "outputs": [],
   "source": [
    "def search(array, key):\n",
    "    n = len(array)\n",
    "    for i in range(0, n):\n",
    "        if array[i] == key:\n",
    "            return i\n",
    "    return -1\n",
    "\n"
   ]
  },
  {
   "cell_type": "code",
   "execution_count": 2,
   "id": "86601a74-004c-4d7c-8773-ef07060852e6",
   "metadata": {},
   "outputs": [
    {
     "name": "stdout",
     "output_type": "stream",
     "text": [
      "Element is present at index  3\n"
     ]
    }
   ],
   "source": [
    "# Driver Code \n",
    "array = [2, 3, 4, 10, 40]\n",
    "x = 10\n",
    "result = search(array, x)\n",
    "if result == -1:\n",
    "    print(\"Element is not present in array\")\n",
    "else:\n",
    "    print(\"Element is present at index \", result)"
   ]
  },
  {
   "cell_type": "code",
   "execution_count": null,
   "id": "80e0e938-1a47-4410-9cf3-dfeb7bc8018e",
   "metadata": {},
   "outputs": [],
   "source": []
  }
 ],
 "metadata": {
  "kernelspec": {
   "display_name": "Python 3 (ipykernel)",
   "language": "python",
   "name": "python3"
  },
  "language_info": {
   "codemirror_mode": {
    "name": "ipython",
    "version": 3
   },
   "file_extension": ".py",
   "mimetype": "text/x-python",
   "name": "python",
   "nbconvert_exporter": "python",
   "pygments_lexer": "ipython3",
   "version": "3.11.7"
  }
 },
 "nbformat": 4,
 "nbformat_minor": 5
}
