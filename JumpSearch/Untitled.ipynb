{
 "cells": [
  {
   "cell_type": "code",
   "execution_count": 1,
   "id": "0862450d-b8ef-4ee8-bcd7-de1f53d6d29c",
   "metadata": {},
   "outputs": [],
   "source": [
    "import math"
   ]
  },
  {
   "cell_type": "code",
   "execution_count": 2,
   "id": "62f3b2a8-b107-49dc-8622-405a9e7dd352",
   "metadata": {},
   "outputs": [],
   "source": [
    "def jumpsearch(arr, num, n):\n",
    "    step = int(math.floor(math.sqrt(n)))\n",
    "    prev = 0 # khoi tao chi so truoc do\n",
    "    #Tim kiem vi tri de nhay qua mang\n",
    "    while arr[min(step, n) - 1] < num:\n",
    "        prev = step\n",
    "        step += int(math.floor(math.sqrt(n)))\n",
    "        if prev >= n:\n",
    "            return -1\n",
    "    #thuc hien tim kiem tuyen tinh tu prev den min(step, n)\n",
    "    while arr[prev] < num:\n",
    "        prev = prev + 1\n",
    "        if prev == min(step, n):\n",
    "            return -1\n",
    "    # tra ve chi so neu so duoc tim thay, -1 neu khong tim thay\n",
    "    if arr[prev] == num:\n",
    "        return prev\n",
    "    return -1\n",
    "        "
   ]
  },
  {
   "cell_type": "code",
   "execution_count": 3,
   "id": "d7d9bfe9-57bb-47c2-8340-53472cf7bd93",
   "metadata": {},
   "outputs": [
    {
     "name": "stdin",
     "output_type": "stream",
     "text": [
      "Enter numbers separated by spaces:  6 7 8 9 3 2 1 4\n",
      "Enter the number to be searched:  8\n"
     ]
    },
    {
     "name": "stdout",
     "output_type": "stream",
     "text": [
      "The sorted array is [1, 2, 3, 4, 6, 7, 8, 9]\n",
      "Number 8 is found at index 6\n"
     ]
    }
   ],
   "source": [
    "#Driver code\n",
    "if __name__ == \"__main__\":\n",
    "    user_in = input(\"Enter numbers separated by spaces: \").strip()  # Nhập dãy số từ người dùng\n",
    "    arr = sorted([int(item) for item in user_in.split(\" \")])  # Chuyển đổi và sắp xếp dãy số\n",
    "    num = int(input(\"Enter the number to be searched: \"))  # Nhập số cần tìm kiếm\n",
    "    n = len(arr)  # Độ dài của mảng\n",
    "    index = jumpsearch(arr, num, n)  # Tìm kiếm số trong mảng\n",
    "    # In kết quả tìm kiếm\n",
    "    if index == -1:\n",
    "        print(\"Number\", num, \"is not found\")\n",
    "    else:\n",
    "        print(\"The sorted array is\", arr)\n",
    "        print(\"Number\", num, \"is found at index\", index)\n"
   ]
  },
  {
   "cell_type": "code",
   "execution_count": null,
   "id": "e15e55db-263d-4820-a8c6-4321eea2dbf7",
   "metadata": {},
   "outputs": [],
   "source": []
  }
 ],
 "metadata": {
  "kernelspec": {
   "display_name": "Python 3 (ipykernel)",
   "language": "python",
   "name": "python3"
  },
  "language_info": {
   "codemirror_mode": {
    "name": "ipython",
    "version": 3
   },
   "file_extension": ".py",
   "mimetype": "text/x-python",
   "name": "python",
   "nbconvert_exporter": "python",
   "pygments_lexer": "ipython3",
   "version": "3.11.7"
  }
 },
 "nbformat": 4,
 "nbformat_minor": 5
}
