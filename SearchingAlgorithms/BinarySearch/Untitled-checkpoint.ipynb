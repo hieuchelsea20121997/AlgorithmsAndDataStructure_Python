{
 "cells": [
  {
   "cell_type": "code",
   "execution_count": 8,
   "id": "7909cab0-ae5a-4b43-9e22-ac3020aa3285",
   "metadata": {},
   "outputs": [
    {
     "data": {
      "text/plain": [
       "'\\nReturns the index of a key in a sorted array\\nor returns -1 if it is not contained\\nTime complexity - O(log n)\\n'"
      ]
     },
     "execution_count": 8,
     "metadata": {},
     "output_type": "execute_result"
    }
   ],
   "source": [
    "\"\"\"\n",
    "Returns the index of a key in a sorted array\n",
    "or returns -1 if it is not contained\n",
    "Time complexity - O(log n)\n",
    "\"\"\""
   ]
  },
  {
   "cell_type": "code",
   "execution_count": 11,
   "id": "6d688308-f6e9-4c03-bc91-c47c8c6d59c1",
   "metadata": {},
   "outputs": [],
   "source": [
    "def binarySearch(array, key, left, right):\n",
    "    mid = left + (right - left)//2\n",
    "    if left > right:\n",
    "        return -1\n",
    "    if array[mid] == key:\n",
    "        return mid\n",
    "    elif array[mid] > key:\n",
    "        return binarySearch(array, key, left, mid -1)\n",
    "    else:\n",
    "        return binarySearch(array, key, mid + 1, right)"
   ]
  },
  {
   "cell_type": "code",
   "execution_count": 12,
   "id": "91072f91-58d1-4fcd-a8c5-456c312053f7",
   "metadata": {},
   "outputs": [
    {
     "name": "stdout",
     "output_type": "stream",
     "text": [
      "Element is present at index 3\n"
     ]
    }
   ],
   "source": [
    "array = [2, 5, 6, 8, 30]\n",
    "x = 8\n",
    "result = binarySearch(array, x, 0, len(array) - 1)\n",
    "if (result == -1):\n",
    "    print(\"Element is not present in array\")\n",
    "else:\n",
    "    print(\"Element is present at index\", result)\n",
    "\n"
   ]
  },
  {
   "cell_type": "code",
   "execution_count": 13,
   "id": "8aef193c-6447-4c9f-bbc4-45d6588bc609",
   "metadata": {},
   "outputs": [
    {
     "name": "stdout",
     "output_type": "stream",
     "text": [
      "Element is not present in array\n"
     ]
    }
   ],
   "source": [
    "array = [2, 3, 4, 10, 40]\n",
    "x = 1\n",
    "result = binarySearch(array, x, 0, len(array) - 1)\n",
    "if(result == -1):\n",
    "    print(\"Element is not present in array\")\n",
    "else:\n",
    "    print(\"Element is present at index\", result)\n",
    "\n"
   ]
  },
  {
   "cell_type": "code",
   "execution_count": null,
   "id": "c2fa6163-26e4-433d-b339-be8d9e1f9c09",
   "metadata": {},
   "outputs": [],
   "source": []
  }
 ],
 "metadata": {
  "kernelspec": {
   "display_name": "Python 3 (ipykernel)",
   "language": "python",
   "name": "python3"
  },
  "language_info": {
   "codemirror_mode": {
    "name": "ipython",
    "version": 3
   },
   "file_extension": ".py",
   "mimetype": "text/x-python",
   "name": "python",
   "nbconvert_exporter": "python",
   "pygments_lexer": "ipython3",
   "version": "3.11.7"
  }
 },
 "nbformat": 4,
 "nbformat_minor": 5
}
