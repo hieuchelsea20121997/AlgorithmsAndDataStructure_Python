{
 "cells": [
  {
   "cell_type": "code",
   "execution_count": 12,
   "id": "f8ea9437-947e-48ff-a844-7f5c0f5b5547",
   "metadata": {},
   "outputs": [],
   "source": [
    "def BinarySearch(array, left, right, x):  # Basic Binary Search Algorithm\n",
    "    if (right >= left):\n",
    "        mid = int(left + (right - left) / 2)\n",
    "        if (array[mid] == x):\n",
    "            return mid\n",
    "        if (array[mid] > x):\n",
    "            return BinarySearch(array, left, mid - 1, x)\n",
    "        return BinarySearch(array, mid + 1, right, x)\n",
    "    return -1  # Returns -1 when element found withing range by Binary Search\n"
   ]
  },
  {
   "cell_type": "code",
   "execution_count": 15,
   "id": "608bc122-753d-40fd-b0e2-79fd3915e340",
   "metadata": {},
   "outputs": [],
   "source": [
    "def ExponentialSearch(array, size, x):\n",
    "    if(array[0]) == x:  # Checking for required element in first position\n",
    "        return 0\n",
    "    i = 1\n",
    "    while (i < size) and (array[i] <= x):  # Expanding range\n",
    "        i = i * 2\n",
    "    return BinarySearch(array, i / 2, min(i, size), x)"
   ]
  },
  {
   "cell_type": "code",
   "execution_count": 17,
   "id": "52ad302e-f0b7-440d-b2b2-2a81423fe518",
   "metadata": {},
   "outputs": [
    {
     "name": "stdout",
     "output_type": "stream",
     "text": [
      "Element doesn't exist in the array!\n"
     ]
    }
   ],
   "source": [
    "array = [12, 20, 69, 420, 666]\n",
    "size = len(array)\n",
    "x = 420\n",
    "result = ExpoentialSearch(array, size, x)\n",
    "if result == -1:\n",
    "    print(\"Element doesn't exist in the array!\")\n",
    "else:\n",
    "    print(\"Element exists within array at index position %d!\" % result)"
   ]
  },
  {
   "cell_type": "code",
   "execution_count": null,
   "id": "7019b89d-1d84-4e81-939e-fcfc13319b18",
   "metadata": {},
   "outputs": [],
   "source": []
  }
 ],
 "metadata": {
  "kernelspec": {
   "display_name": "Python 3 (ipykernel)",
   "language": "python",
   "name": "python3"
  },
  "language_info": {
   "codemirror_mode": {
    "name": "ipython",
    "version": 3
   },
   "file_extension": ".py",
   "mimetype": "text/x-python",
   "name": "python",
   "nbconvert_exporter": "python",
   "pygments_lexer": "ipython3",
   "version": "3.11.7"
  }
 },
 "nbformat": 4,
 "nbformat_minor": 5
}
